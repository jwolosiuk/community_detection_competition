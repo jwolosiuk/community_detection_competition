{
 "cells": [
  {
   "cell_type": "code",
   "execution_count": 1,
   "id": "f514553e",
   "metadata": {},
   "outputs": [],
   "source": [
    "import pandas as pd\n",
    "import networkx as nx\n",
    "import os\n",
    "from time import time\n",
    "\n",
    "from networkx.algorithms.centrality import edge_betweenness_centrality\n",
    "from networkx.algorithms.components import connected_components\n",
    "from networkx.algorithms.community.quality import modularity\n",
    "from networkx.algorithms.community.quality import partition_quality\n",
    "from networkx.algorithms.community.quality import performance"
   ]
  },
  {
   "cell_type": "code",
   "execution_count": 2,
   "id": "4e8c17ed",
   "metadata": {},
   "outputs": [],
   "source": [
    "def load_data(filename):\n",
    "    input_data = pd.read_csv(filename, header=None)\n",
    "    G = nx.Graph(input_data.values)\n",
    "    return G"
   ]
  },
  {
   "cell_type": "code",
   "execution_count": 3,
   "id": "aacdc412",
   "metadata": {},
   "outputs": [],
   "source": [
    "def girvan_newman(G, k=None, scoring=modularity):\n",
    "    g = G.copy()\n",
    "    answers = [list(connected_components(g))]\n",
    "    while len(g.edges):\n",
    "        best_edge = None\n",
    "        best_val = -float('inf')\n",
    "        for edge, val in edge_betweenness_centrality(g).items():\n",
    "            if val > best_val:\n",
    "                best_val = val\n",
    "                best_edge = edge\n",
    "        g.remove_edge(*best_edge)\n",
    "        components = list(connected_components(g))\n",
    "        if len(components) != len(answers[-1]):\n",
    "            answers.append(components)\n",
    "        if k is not None and len(components) == k:\n",
    "            return components\n",
    "        \n",
    "    best_i = None\n",
    "    best_val = -float('inf')\n",
    "    for i, comm  in enumerate(answers):\n",
    "        v = scoring(G, comm)\n",
    "        if v > best_val:\n",
    "            best_val = v\n",
    "            best_i = i\n",
    "    return answers[best_i]"
   ]
  },
  {
   "cell_type": "code",
   "execution_count": 4,
   "id": "27cf1338",
   "metadata": {},
   "outputs": [],
   "source": [
    "def coloring(g, communities):\n",
    "    color_map = []\n",
    "    colors = list(range(len(communities)))\n",
    "    for node in g:\n",
    "        for i, com in enumerate(communities):\n",
    "            if node in com:\n",
    "                color_map.append(i+1)\n",
    "    return color_map"
   ]
  },
  {
   "cell_type": "code",
   "execution_count": 5,
   "id": "f224c331",
   "metadata": {},
   "outputs": [],
   "source": [
    "def save_output(filename, g, communities):\n",
    "    df = pd.DataFrame(coloring(g, communities))\n",
    "    df.index += 1\n",
    "    df.to_csv('out_'+filename, header=False)"
   ]
  },
  {
   "cell_type": "code",
   "execution_count": null,
   "id": "9f96b641",
   "metadata": {},
   "outputs": [],
   "source": []
  },
  {
   "cell_type": "code",
   "execution_count": 6,
   "id": "a57fca78",
   "metadata": {},
   "outputs": [
    {
     "name": "stdout",
     "output_type": "stream",
     "text": [
      "competition/D1-K=2.csv\n",
      "competition/D3-UNC.csv\n",
      "competition/D3-K=12.csv\n",
      "competition/D2-UNC.csv\n",
      "competition/D2-K=7.csv\n",
      "competition/D1-UNC.csv\n"
     ]
    }
   ],
   "source": [
    "dir_ = \"competition/\"\n",
    "\n",
    "networks = []\n",
    "for file in os.listdir(dir_):\n",
    "    if file.endswith(\".csv\"):\n",
    "        filename = dir_ + file\n",
    "        print(filename)\n",
    "        k = None\n",
    "        if 'K=' in file:\n",
    "            k = int(file[file.index('=')+1:file.index('.csv')])\n",
    "        networks.append((filename, k))"
   ]
  },
  {
   "cell_type": "code",
   "execution_count": null,
   "id": "2d456d7a",
   "metadata": {},
   "outputs": [],
   "source": []
  },
  {
   "cell_type": "code",
   "execution_count": 7,
   "id": "3c59b53b",
   "metadata": {},
   "outputs": [
    {
     "name": "stdout",
     "output_type": "stream",
     "text": [
      "{D1-K=2.csv, 0.032}, {D3-UNC.csv, 2.374}, {D3-K=12.csv, 3.473}, {D2-UNC.csv, 11.182}, {D2-K=7.csv, 0.163}, {D1-UNC.csv, 1.631}, "
     ]
    }
   ],
   "source": [
    "for filename, k in networks:\n",
    "    g = load_data(filename)\n",
    "    start = time()\n",
    "    communities = girvan_newman(g, k=k)\n",
    "    running_time = time() - start\n",
    "    print(f\"{{{filename[filename.index('/')+1:]}, {running_time:.3f}}}\", end=', ')\n",
    "    save_output(filename, g, communities)"
   ]
  }
 ],
 "metadata": {
  "kernelspec": {
   "display_name": "Python 3 (ipykernel)",
   "language": "python",
   "name": "python3"
  },
  "language_info": {
   "codemirror_mode": {
    "name": "ipython",
    "version": 3
   },
   "file_extension": ".py",
   "mimetype": "text/x-python",
   "name": "python",
   "nbconvert_exporter": "python",
   "pygments_lexer": "ipython3",
   "version": "3.8.10"
  }
 },
 "nbformat": 4,
 "nbformat_minor": 5
}
